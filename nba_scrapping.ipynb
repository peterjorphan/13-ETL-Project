{
 "cells": [
  {
   "cell_type": "code",
   "execution_count": 1,
   "metadata": {},
   "outputs": [],
   "source": [
    "# Dependencies\n",
    "from bs4 import BeautifulSoup\n",
    "from splinter import Browser\n",
    "from splinter.exceptions import ElementDoesNotExist\n",
    "import pandas as pd\n",
    "import requests\n",
    "import os"
   ]
  },
  {
   "cell_type": "code",
   "execution_count": 2,
   "metadata": {},
   "outputs": [],
   "source": [
    "# URL of page to be scraped\n",
    "url = 'http://www.espn.com/nba/salaries'"
   ]
  },
  {
   "cell_type": "code",
   "execution_count": 3,
   "metadata": {},
   "outputs": [],
   "source": [
    "# Retrieve page with the requests module\n",
    "response = requests.get(url)"
   ]
  },
  {
   "cell_type": "code",
   "execution_count": 4,
   "metadata": {},
   "outputs": [],
   "source": [
    "# Create BeautifulSoup object; parse with 'html.parser'\n",
    "soup = BeautifulSoup(response.text, 'html.parser')"
   ]
  },
  {
   "cell_type": "code",
   "execution_count": 5,
   "metadata": {},
   "outputs": [],
   "source": [
    "# Examine the results, then determine element that contains sought info\n",
    "# print(soup.prettify())"
   ]
  },
  {
   "cell_type": "code",
   "execution_count": 6,
   "metadata": {},
   "outputs": [],
   "source": [
    "executable_path = {'executable_path': 'chromedriver.exe'}\n",
    "browser = Browser('chrome', **executable_path, headless=False)\n",
    "browser.visit(url)"
   ]
  },
  {
   "cell_type": "code",
   "execution_count": 7,
   "metadata": {
    "scrolled": true
   },
   "outputs": [
    {
     "data": {
      "text/plain": [
       "{'2018-2019': '//www.espn.com/nba/salaries',\n",
       " '2017-2018': '//www.espn.com/nba/salaries/_/year/2018',\n",
       " '2016-2017': '//www.espn.com/nba/salaries/_/year/2017',\n",
       " '2015-2016': '//www.espn.com/nba/salaries/_/year/2016',\n",
       " '2014-2015': '//www.espn.com/nba/salaries/_/year/2015',\n",
       " '2013-2014': '//www.espn.com/nba/salaries/_/year/2014',\n",
       " '2012-2013': '//www.espn.com/nba/salaries/_/year/2013',\n",
       " '2011-2012': '//www.espn.com/nba/salaries/_/year/2012',\n",
       " '2010-2011': '//www.espn.com/nba/salaries/_/year/2011',\n",
       " '2009-2010': '//www.espn.com/nba/salaries/_/year/2010',\n",
       " '2008-2009': '//www.espn.com/nba/salaries/_/year/2009',\n",
       " '2007-2008': '//www.espn.com/nba/salaries/_/year/2008',\n",
       " '2006-2007': '//www.espn.com/nba/salaries/_/year/2007',\n",
       " '2005-2006': '//www.espn.com/nba/salaries/_/year/2006',\n",
       " '2004-2005': '//www.espn.com/nba/salaries/_/year/2005',\n",
       " '2003-2004': '//www.espn.com/nba/salaries/_/year/2004',\n",
       " '2002-2003': '//www.espn.com/nba/salaries/_/year/2003',\n",
       " '2001-2002': '//www.espn.com/nba/salaries/_/year/2002',\n",
       " '2000-2001': '//www.espn.com/nba/salaries/_/year/2001',\n",
       " '1999-2000': '//www.espn.com/nba/salaries/_/year/2000'}"
      ]
     },
     "execution_count": 7,
     "metadata": {},
     "output_type": "execute_result"
    }
   ],
   "source": [
    "# Create the dropdown list in the form of a list\n",
    "\n",
    "dropdown = {}\n",
    "for season in browser.find_by_xpath('//select[@class=\"tablesm\"]//option'):\n",
    "    if season.value == '#':\n",
    "        continue\n",
    "        \n",
    "    dropdown[season.text] = season.value\n",
    "#     browser.find_by_xpath(f'//select[@class=\"tablesm\"]//option[@value=\"{season.value}\"]').click()\n",
    "#     print(season.value)\n",
    "    \n",
    "# browser.find_by_xpath(f'//select[@class=\"tablesm\"]//option[@value=\"{season.value}\"]').click()\n",
    "dropdown"
   ]
  },
  {
   "cell_type": "code",
   "execution_count": 8,
   "metadata": {
    "scrolled": false
   },
   "outputs": [],
   "source": [
    "# Loop through the dropdown list, and then within each element of the list loop through all the \"next\" fields\n",
    "\n",
    "df = pd.DataFrame(columns=['RK', 'Name', 'Team', 'Salary', 'Season'])\n",
    "\n",
    "for season in dropdown:\n",
    "    \n",
    "    browser.find_by_xpath(f'//select[@class=\"tablesm\"]//option[@value=\"{dropdown[season]}\"]').first.click()\n",
    "\n",
    "    a = True\n",
    "    while a:\n",
    "        tables = pd.read_html(browser.url)\n",
    "        page_df = tables[0]\n",
    "        page_df.columns = ['RK', 'Name', 'Team', 'Salary']\n",
    "        page_df['Season'] = season\n",
    "        df = df.append(page_df, ignore_index = True)\n",
    "\n",
    "        # Click the 'Next' button on each page\n",
    "        try:\n",
    "            browser.find_by_xpath('//div[@class=\"jcarousel-next\"]').click()\n",
    "\n",
    "        except :\n",
    "            a = False"
   ]
  },
  {
   "cell_type": "code",
   "execution_count": 15,
   "metadata": {},
   "outputs": [
    {
     "data": {
      "text/html": [
       "<div>\n",
       "<style scoped>\n",
       "    .dataframe tbody tr th:only-of-type {\n",
       "        vertical-align: middle;\n",
       "    }\n",
       "\n",
       "    .dataframe tbody tr th {\n",
       "        vertical-align: top;\n",
       "    }\n",
       "\n",
       "    .dataframe thead th {\n",
       "        text-align: right;\n",
       "    }\n",
       "</style>\n",
       "<table border=\"1\" class=\"dataframe\">\n",
       "  <thead>\n",
       "    <tr style=\"text-align: right;\">\n",
       "      <th></th>\n",
       "      <th>RK</th>\n",
       "      <th>Name</th>\n",
       "      <th>Team</th>\n",
       "      <th>Salary</th>\n",
       "      <th>Season</th>\n",
       "    </tr>\n",
       "  </thead>\n",
       "  <tbody>\n",
       "    <tr>\n",
       "      <th>0</th>\n",
       "      <td>RK</td>\n",
       "      <td>NAME</td>\n",
       "      <td>TEAM</td>\n",
       "      <td>SALARY</td>\n",
       "      <td>2018-2019</td>\n",
       "    </tr>\n",
       "    <tr>\n",
       "      <th>1</th>\n",
       "      <td>1</td>\n",
       "      <td>Stephen Curry, PG</td>\n",
       "      <td>Golden State Warriors</td>\n",
       "      <td>$37,457,154</td>\n",
       "      <td>2018-2019</td>\n",
       "    </tr>\n",
       "    <tr>\n",
       "      <th>2</th>\n",
       "      <td>2</td>\n",
       "      <td>Russell Westbrook, PG</td>\n",
       "      <td>Oklahoma City Thunder</td>\n",
       "      <td>$35,654,150</td>\n",
       "      <td>2018-2019</td>\n",
       "    </tr>\n",
       "    <tr>\n",
       "      <th>3</th>\n",
       "      <td>3</td>\n",
       "      <td>Chris Paul, PG</td>\n",
       "      <td>Houston Rockets</td>\n",
       "      <td>$35,654,150</td>\n",
       "      <td>2018-2019</td>\n",
       "    </tr>\n",
       "    <tr>\n",
       "      <th>4</th>\n",
       "      <td>4</td>\n",
       "      <td>Blake Griffin, PF</td>\n",
       "      <td>Detroit Pistons</td>\n",
       "      <td>$32,088,932</td>\n",
       "      <td>2018-2019</td>\n",
       "    </tr>\n",
       "  </tbody>\n",
       "</table>\n",
       "</div>"
      ],
      "text/plain": [
       "   RK                   Name                   Team       Salary     Season\n",
       "0  RK                   NAME                   TEAM       SALARY  2018-2019\n",
       "1   1      Stephen Curry, PG  Golden State Warriors  $37,457,154  2018-2019\n",
       "2   2  Russell Westbrook, PG  Oklahoma City Thunder  $35,654,150  2018-2019\n",
       "3   3         Chris Paul, PG        Houston Rockets  $35,654,150  2018-2019\n",
       "4   4      Blake Griffin, PF        Detroit Pistons  $32,088,932  2018-2019"
      ]
     },
     "execution_count": 15,
     "metadata": {},
     "output_type": "execute_result"
    }
   ],
   "source": [
    "# Display DataFrame\n",
    "df.head()"
   ]
  },
  {
   "cell_type": "code",
   "execution_count": 16,
   "metadata": {},
   "outputs": [],
   "source": [
    "# Save to csv\n",
    "df.to_csv('Resources\\salary_raw.csv')"
   ]
  }
 ],
 "metadata": {
  "kernelspec": {
   "display_name": "Python 3",
   "language": "python",
   "name": "python3"
  },
  "language_info": {
   "codemirror_mode": {
    "name": "ipython",
    "version": 3
   },
   "file_extension": ".py",
   "mimetype": "text/x-python",
   "name": "python",
   "nbconvert_exporter": "python",
   "pygments_lexer": "ipython3",
   "version": "3.6.7"
  }
 },
 "nbformat": 4,
 "nbformat_minor": 2
}
